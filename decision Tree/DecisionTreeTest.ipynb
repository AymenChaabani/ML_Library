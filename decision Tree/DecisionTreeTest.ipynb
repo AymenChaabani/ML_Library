{
 "cells": [
  {
   "cell_type": "code",
   "execution_count": 13,
   "id": "35112eec",
   "metadata": {},
   "outputs": [],
   "source": [
    "import numpy as np\n",
    "from DecisionTree import DecisionTreeID3\n",
    "from CrossValidation import *\n",
    "from helper_functions import _gini, _entropy, _misclass\n",
    "from metrics import err_mis\n",
    "import pandas as pd\n"
   ]
  },
  {
   "cell_type": "code",
   "execution_count": 13,
   "id": "ec015e68",
   "metadata": {
    "collapsed": true
   },
   "outputs": [
    {
     "name": "stderr",
     "output_type": "stream",
     "text": [
      "Un sous-répertoire ou un fichier CAR existe déjà.\n",
      "  % Total    % Received % Xferd  Average Speed   Time    Time     Time  Current\n",
      "                                 Dload  Upload   Total   Spent    Left  Speed\n",
      "\n",
      "  0     0    0     0    0     0      0      0 --:--:-- --:--:-- --:--:--     0\n",
      "100 51867  100 51867    0     0  80289      0 --:--:-- --:--:-- --:--:-- 80289\n",
      "  % Total    % Received % Xferd  Average Speed   Time    Time     Time  Current\n",
      "                                 Dload  Upload   Total   Spent    Left  Speed\n",
      "\n",
      "  0     0    0     0    0     0      0      0 --:--:-- --:--:-- --:--:--     0\n",
      "  0     0    0     0    0     0      0      0 --:--:-- --:--:-- --:--:--     0\n",
      "100  3097  100  3097    0     0   9356      0 --:--:-- --:--:-- --:--:--  9328\n",
      "'cat' n’est pas reconnu en tant que commande interne\n",
      "ou externe, un programme exécutable ou un fichier de commandes.\n"
     ]
    }
   ],
   "source": [
    "#shell scripts for downloading the data and placing it in a corresponding directory\n",
    "!mkdir CAR \n",
    "!curl -o CAR/data \"http://archive.ics.uci.edu/ml/machine-learning-databases/car/car.data\"\n",
    "!curl -o CAR/description \"http://archive.ics.uci.edu/ml/machine-learning-databases/car/car.names\"\n",
    "#download the description and display it here.\n",
    "!cat CAR/description"
   ]
  },
  {
   "cell_type": "code",
   "execution_count": null,
   "id": "3545ad6a",
   "metadata": {},
   "outputs": [],
   "source": [
    "# csv-file has no header, so we define it manually\n",
    "col_names = ['price_buy', 'price_main', 'n_doors', 'n_persons', 'lug_boot', 'safety', 'recommendation']\n",
    "df = pd.read_csv(\"./CAR/data\", header=None, names=col_names)\n"
   ]
  },
  {
   "cell_type": "code",
   "execution_count": 18,
   "id": "1bfab466",
   "metadata": {},
   "outputs": [
    {
     "data": {
      "text/html": [
       "<div>\n",
       "<style scoped>\n",
       "    .dataframe tbody tr th:only-of-type {\n",
       "        vertical-align: middle;\n",
       "    }\n",
       "\n",
       "    .dataframe tbody tr th {\n",
       "        vertical-align: top;\n",
       "    }\n",
       "\n",
       "    .dataframe thead th {\n",
       "        text-align: right;\n",
       "    }\n",
       "</style>\n",
       "<table border=\"1\" class=\"dataframe\">\n",
       "  <thead>\n",
       "    <tr style=\"text-align: right;\">\n",
       "      <th></th>\n",
       "      <th>price_buy</th>\n",
       "      <th>price_main</th>\n",
       "      <th>n_doors</th>\n",
       "      <th>n_persons</th>\n",
       "      <th>lug_boot</th>\n",
       "      <th>safety</th>\n",
       "      <th>recommendation</th>\n",
       "    </tr>\n",
       "  </thead>\n",
       "  <tbody>\n",
       "    <tr>\n",
       "      <th>0</th>\n",
       "      <td>vhigh</td>\n",
       "      <td>vhigh</td>\n",
       "      <td>2</td>\n",
       "      <td>2</td>\n",
       "      <td>small</td>\n",
       "      <td>low</td>\n",
       "      <td>unacc</td>\n",
       "    </tr>\n",
       "    <tr>\n",
       "      <th>1</th>\n",
       "      <td>vhigh</td>\n",
       "      <td>vhigh</td>\n",
       "      <td>2</td>\n",
       "      <td>2</td>\n",
       "      <td>small</td>\n",
       "      <td>med</td>\n",
       "      <td>unacc</td>\n",
       "    </tr>\n",
       "    <tr>\n",
       "      <th>2</th>\n",
       "      <td>vhigh</td>\n",
       "      <td>vhigh</td>\n",
       "      <td>2</td>\n",
       "      <td>2</td>\n",
       "      <td>small</td>\n",
       "      <td>high</td>\n",
       "      <td>unacc</td>\n",
       "    </tr>\n",
       "    <tr>\n",
       "      <th>3</th>\n",
       "      <td>vhigh</td>\n",
       "      <td>vhigh</td>\n",
       "      <td>2</td>\n",
       "      <td>2</td>\n",
       "      <td>med</td>\n",
       "      <td>low</td>\n",
       "      <td>unacc</td>\n",
       "    </tr>\n",
       "    <tr>\n",
       "      <th>4</th>\n",
       "      <td>vhigh</td>\n",
       "      <td>vhigh</td>\n",
       "      <td>2</td>\n",
       "      <td>2</td>\n",
       "      <td>med</td>\n",
       "      <td>med</td>\n",
       "      <td>unacc</td>\n",
       "    </tr>\n",
       "    <tr>\n",
       "      <th>...</th>\n",
       "      <td>...</td>\n",
       "      <td>...</td>\n",
       "      <td>...</td>\n",
       "      <td>...</td>\n",
       "      <td>...</td>\n",
       "      <td>...</td>\n",
       "      <td>...</td>\n",
       "    </tr>\n",
       "    <tr>\n",
       "      <th>1723</th>\n",
       "      <td>low</td>\n",
       "      <td>low</td>\n",
       "      <td>5more</td>\n",
       "      <td>more</td>\n",
       "      <td>med</td>\n",
       "      <td>med</td>\n",
       "      <td>good</td>\n",
       "    </tr>\n",
       "    <tr>\n",
       "      <th>1724</th>\n",
       "      <td>low</td>\n",
       "      <td>low</td>\n",
       "      <td>5more</td>\n",
       "      <td>more</td>\n",
       "      <td>med</td>\n",
       "      <td>high</td>\n",
       "      <td>vgood</td>\n",
       "    </tr>\n",
       "    <tr>\n",
       "      <th>1725</th>\n",
       "      <td>low</td>\n",
       "      <td>low</td>\n",
       "      <td>5more</td>\n",
       "      <td>more</td>\n",
       "      <td>big</td>\n",
       "      <td>low</td>\n",
       "      <td>unacc</td>\n",
       "    </tr>\n",
       "    <tr>\n",
       "      <th>1726</th>\n",
       "      <td>low</td>\n",
       "      <td>low</td>\n",
       "      <td>5more</td>\n",
       "      <td>more</td>\n",
       "      <td>big</td>\n",
       "      <td>med</td>\n",
       "      <td>good</td>\n",
       "    </tr>\n",
       "    <tr>\n",
       "      <th>1727</th>\n",
       "      <td>low</td>\n",
       "      <td>low</td>\n",
       "      <td>5more</td>\n",
       "      <td>more</td>\n",
       "      <td>big</td>\n",
       "      <td>high</td>\n",
       "      <td>vgood</td>\n",
       "    </tr>\n",
       "  </tbody>\n",
       "</table>\n",
       "<p>1728 rows × 7 columns</p>\n",
       "</div>"
      ],
      "text/plain": [
       "     price_buy price_main n_doors n_persons lug_boot safety recommendation\n",
       "0        vhigh      vhigh       2         2    small    low          unacc\n",
       "1        vhigh      vhigh       2         2    small    med          unacc\n",
       "2        vhigh      vhigh       2         2    small   high          unacc\n",
       "3        vhigh      vhigh       2         2      med    low          unacc\n",
       "4        vhigh      vhigh       2         2      med    med          unacc\n",
       "...        ...        ...     ...       ...      ...    ...            ...\n",
       "1723       low        low   5more      more      med    med           good\n",
       "1724       low        low   5more      more      med   high          vgood\n",
       "1725       low        low   5more      more      big    low          unacc\n",
       "1726       low        low   5more      more      big    med           good\n",
       "1727       low        low   5more      more      big   high          vgood\n",
       "\n",
       "[1728 rows x 7 columns]"
      ]
     },
     "execution_count": 18,
     "metadata": {},
     "output_type": "execute_result"
    }
   ],
   "source": [
    "df"
   ]
  },
  {
   "cell_type": "code",
   "execution_count": 5,
   "id": "57013c30",
   "metadata": {},
   "outputs": [
    {
     "name": "stdout",
     "output_type": "stream",
     "text": [
      "(1728, 6) (1728,)\n"
     ]
    }
   ],
   "source": [
    "# All attributes are categorical - a mix of strings and integers.\n",
    "# We simply map the categorical values of each attribute to a set of distinct integers\n",
    "ai2an_map = col_names\n",
    "ai2aiv2aivn_map = []\n",
    "enc_cols = []\n",
    "for col in df.columns:\n",
    "    df[col] = df[col].astype('category')\n",
    "    a = np.array(df[col].cat.codes.values).reshape((-1,1))\n",
    "    enc_cols.append(a)\n",
    "    ai2aiv2aivn_map.append(list(df[col].cat.categories.values))\n",
    "\n",
    "    \n",
    "    \n",
    "# Get the data as numpy 2d-matrix (n_samples, n_features)\n",
    "dataset = np.hstack(enc_cols)\n",
    "X, y = dataset[:,:6], dataset[:,6]\n",
    "print(X.shape, y.shape)"
   ]
  },
  {
   "cell_type": "code",
   "execution_count": 6,
   "id": "3d4cbb07",
   "metadata": {},
   "outputs": [
    {
     "data": {
      "text/plain": [
       "<DecisionTree.DecisionTreeID3 at 0x1c17e1e9730>"
      ]
     },
     "execution_count": 6,
     "metadata": {},
     "output_type": "execute_result"
    }
   ],
   "source": [
    "tree = DecisionTreeID3()\n",
    "tree.fit(X, y, verbose=0)"
   ]
  },
  {
   "cell_type": "code",
   "execution_count": 8,
   "id": "54edf166",
   "metadata": {},
   "outputs": [
    {
     "name": "stdout",
     "output_type": "stream",
     "text": [
      "Unsurprisingly, the error on the training set is very low: 0.000000\n"
     ]
    }
   ],
   "source": [
    "y_p = tree.predict(X)\n",
    "err = err_mis(y, y_p)\n",
    "print (\"Unsurprisingly, the error on the training set is very low: %f\" % err)"
   ]
  },
  {
   "cell_type": "code",
   "execution_count": 14,
   "id": "1f78e2db",
   "metadata": {},
   "outputs": [
    {
     "name": "stdout",
     "output_type": "stream",
     "text": [
      "<function _gini at 0x000001C17E11C820>: Average training error 0.000000;Average test error 0.060465\n",
      "<function _entropy at 0x000001C17E11C8B0>: Average training error 0.000000;Average test error 0.060465\n",
      "<function _misclass at 0x000001C17E11C940>: Average training error 0.000000;Average test error 0.060465\n"
     ]
    }
   ],
   "source": [
    "impurity_measures = [_gini, _entropy, _misclass]\n",
    "k = 10\n",
    "\n",
    "folds = getKFolds(X.shape[0], k)\n",
    "#folds = getBootstrapFolds(X.shape[0], k, train_fraction=0.9)\n",
    "\n",
    "for imp in impurity_measures:\n",
    "    err_tr = 0.\n",
    "    err_te = 0.\n",
    "    for i in range(k):\n",
    "        idx_tr, idx_te = folds[i]\n",
    "        \n",
    "        _X_tr = X[idx_tr]\n",
    "        _y_tr = y[idx_tr]\n",
    "        _X_te = X[idx_te]\n",
    "        _y_te = y[idx_te]\n",
    "        \n",
    "        DecisionTreeID3(criterion=imp)\n",
    "        tree.fit(_X_tr, _y_tr, verbose=0)\n",
    "        \n",
    "        y_tr_p = tree.predict(_X_tr)\n",
    "        y_te_p = tree.predict(_X_te)\n",
    "        err_tr += err_mis(_y_tr, y_tr_p)\n",
    "        err_te += err_mis(_y_te, y_te_p)\n",
    "        \n",
    "    print (\"%s: Average training error %f;Average test error %f\" % (imp, err_tr/k, err_te/k))\n",
    "      "
   ]
  }
 ],
 "metadata": {
  "kernelspec": {
   "display_name": "Python 3",
   "language": "python",
   "name": "python3"
  },
  "language_info": {
   "codemirror_mode": {
    "name": "ipython",
    "version": 3
   },
   "file_extension": ".py",
   "mimetype": "text/x-python",
   "name": "python",
   "nbconvert_exporter": "python",
   "pygments_lexer": "ipython3",
   "version": "3.8.8"
  }
 },
 "nbformat": 4,
 "nbformat_minor": 5
}
